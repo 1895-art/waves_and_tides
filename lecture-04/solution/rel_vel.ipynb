{
 "metadata": {
  "name": ""
 },
 "nbformat": 3,
 "nbformat_minor": 0,
 "worksheets": [
  {
   "cells": [
    {
     "cell_type": "code",
     "collapsed": false,
     "input": [
      "from IPython.core.display import HTML\n",
      "\n",
      "with open('../../common/creativecommons.html', 'r') as f:\n",
      "    html = f.read()\n",
      "    \n",
      "with open('../../common/custom.css', 'r') as f:\n",
      "    styles = f.read()\n",
      "    \n",
      "HTML(styles)\n",
      "\n",
      "text = 'Check this post at'\n",
      "uri = 'http://nbviewer.ipython.org/urls/raw.github.com/ocefpaf/python4oceanographers/master/content/downloads/notebooks'\n",
      "name = get_notebook_name()\n",
      "link = \"\"\"<p>%s <a href=\"%s/%s\"><em>nbviewer</em>.</a></p>\"\"\" % (text, uri, name)\n",
      "html += str(link)"
     ],
     "language": "python",
     "metadata": {},
     "outputs": [],
     "prompt_number": null
    },
    {
     "cell_type": "code",
     "collapsed": false,
     "input": [
      "import numpy as np\n",
      "import matplotlib.pyplot as plt"
     ],
     "language": "python",
     "metadata": {},
     "outputs": [],
     "prompt_number": null
    },
    {
     "cell_type": "code",
     "collapsed": false,
     "input": [
      "g = 9.8\n",
      "dt = 0.01\n",
      "rel = np.arange(0.01, 0.6 + dt, dt)\n",
      "err = 0.95\n",
      "\n",
      "\n",
      "Cc = np.sqrt(np.tanh(2 * np.pi * rel))\n",
      "Cl = np.sqrt((1 / (2 * np.pi * rel)) * np.tanh(2 * np.pi * rel))\n",
      "\n",
      "fig, ax = plt.subplots()\n",
      "ax.plot(rel, Cc, 'k')\n",
      "ax.plot(rel, Cl, 'b')\n",
      "ax.set_title('Velocity comparison by H/L [error > 5% in red]')\n",
      "ax.set_xlabel('H/L')\n",
      "ax.set_ylabel('C/Cc (preto) e C/Cl (Azul)')\n",
      "\n",
      "errCc = Cc < err\n",
      "errCl = Cl < err\n",
      "\n",
      "ax.plot(rel[errCl], Cl[errCl], 'r')\n",
      "ax.plot(rel[errCc], Cc[errCc], 'r')\n",
      "\n",
      "a = rel[errCl].min()\n",
      "b = rel[errCc].max()"
     ],
     "language": "python",
     "metadata": {},
     "outputs": [],
     "prompt_number": null
    },
    {
     "cell_type": "code",
     "collapsed": false,
     "input": [
      "HTML(html)"
     ],
     "language": "python",
     "metadata": {},
     "outputs": [],
     "prompt_number": null
    }
   ],
   "metadata": {}
  }
 ]
}