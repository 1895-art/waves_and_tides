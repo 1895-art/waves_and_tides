{
 "metadata": {
  "name": ""
 },
 "nbformat": 3,
 "nbformat_minor": 0,
 "worksheets": [
  {
   "cells": [
    {
     "cell_type": "code",
     "collapsed": false,
     "input": [
      "from IPython.core.display import HTML\n",
      "\n",
      "with open('../../common/creativecommons.html', 'r') as f:\n",
      "    html = f.read()\n",
      "    \n",
      "with open('../../common/custom.css', 'r') as f:\n",
      "    styles = f.read()\n",
      "    \n",
      "HTML(styles)\n",
      "\n",
      "text = 'Check this post at'\n",
      "uri = 'http://nbviewer.ipython.org/urls/raw.github.com/ocefpaf/python4oceanographers/master/content/downloads/notebooks'\n",
      "name = get_notebook_name()\n",
      "link = \"\"\"<p>%s <a href=\"%s/%s\"><em>nbviewer</em>.</a></p>\"\"\" % (text, uri, name)\n",
      "html += str(link)"
     ],
     "language": "python",
     "metadata": {},
     "outputs": [],
     "prompt_number": null
    },
    {
     "cell_type": "code",
     "collapsed": false,
     "input": [
      "import numpy as np\n",
      "import matplotlib.pyplot as plt"
     ],
     "language": "python",
     "metadata": {},
     "outputs": [],
     "prompt_number": null
    },
    {
     "cell_type": "code",
     "collapsed": false,
     "input": [
      "hoL = np.arange(0, 1, 0.001)\n",
      "kh = 2 * np.pi * hoL\n",
      "tanhkh = np.tanh(kh)\n",
      "\n",
      "threshold = 1e-3\n",
      "one = (1 - tanhkh) <= threshold\n",
      "equal = (kh - tanhkh) <= threshold\n",
      "\n",
      "fig, ax = plt.subplots(figsize=(8, 4))\n",
      "ax.plot(hoL, tanhkh, color='#493D26', linewidth='2', label=r\"$\\tanh(kh)$\")\n",
      "ax.plot(hoL[equal], tanhkh[equal], color='#F88017', linewidth='3', label=r\"$\\tanh(kh) \\sim kh$\")\n",
      "ax.plot(hoL[one], tanhkh[one], color='#168EF7', linewidth='3', label=r\"$\\tanh(kh) \\sim 1$\")\n",
      "ax.set_xlabel(r'$\\frac{h}{L}$')\n",
      "ax.set_ylabel(r'$\\tanh(kh)$')\n",
      "ax.axis([0, 1, 0, 1.05])\n",
      "ax.legend(loc='lower right')\n",
      "\n",
      "plt.show()\n"
     ],
     "language": "python",
     "metadata": {},
     "outputs": [],
     "prompt_number": null
    },
    {
     "cell_type": "code",
     "collapsed": false,
     "input": [
      "HTML(html)"
     ],
     "language": "python",
     "metadata": {},
     "outputs": [],
     "prompt_number": null
    }
   ],
   "metadata": {}
  }
 ]
}