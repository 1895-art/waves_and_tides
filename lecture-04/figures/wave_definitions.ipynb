{
 "metadata": {
  "name": ""
 },
 "nbformat": 3,
 "nbformat_minor": 0,
 "worksheets": [
  {
   "cells": [
    {
     "cell_type": "code",
     "collapsed": false,
     "input": [
      "from IPython.core.display import HTML\n",
      "\n",
      "with open('../../common/creativecommons.html', 'r') as f:\n",
      "    html = f.read()\n",
      "    \n",
      "with open('../../common/custom.css', 'r') as f:\n",
      "    styles = f.read()\n",
      "    \n",
      "HTML(styles)\n",
      "\n",
      "text = 'Check this post at'\n",
      "uri = 'http://nbviewer.ipython.org/urls/raw.github.com/ocefpaf/python4oceanographers/master/content/downloads/notebooks'\n",
      "name = get_notebook_name()\n",
      "link = \"\"\"<p>%s <a href=\"%s/%s\"><em>nbviewer</em>.</a></p>\"\"\" % (text, uri, name)\n",
      "html += str(link)"
     ],
     "language": "python",
     "metadata": {},
     "outputs": [],
     "prompt_number": 1
    },
    {
     "cell_type": "code",
     "collapsed": false,
     "input": [
      "twopi = 2 * np.pi\n",
      "\n",
      "n = 2  # Duas ondas.\n",
      "A = 2  # Amplitude = 2 metros.\n",
      "w = twopi / 10  # T = 10 segundos.\n",
      "k = twopi / 200  # lambda = 200 metros.\n",
      "phi = np.deg2rad(180)  # Fase [rad]\n",
      "t = np.arange(0, 10 * n, 0.01)  # Vetor tempo [s]\n",
      "y = A * np.cos(w * t - k * 0 + phi)  # Um ponto do oceano."
     ],
     "language": "python",
     "metadata": {},
     "outputs": [],
     "prompt_number": 2
    },
    {
     "cell_type": "code",
     "collapsed": false,
     "input": [
      "fig, ax = plt.subplots(figsize=(8, 4))\n",
      "ax.plot(t, y, linewidth='2', color='#006633')\n",
      "ax.set_frame_on(False)\n",
      "ax.axis([-0.1, 20.1, -3, 3])\n",
      "ax.get_xaxis().set_ticks([])\n",
      "ax.get_yaxis().set_ticks([])\n",
      "\n",
      "# Box.\n",
      "kw = dict(linestyle='--', color='grey', zorder=90)\n",
      "ax.axhline(y=2, xmin=0.15, xmax=0.85, **kw)\n",
      "ax.axhline(y=-2, xmin=0.15, xmax=0.85, **kw)\n",
      "ax.axvline(x=5, ymin=-0.15, ymax=1.85, **kw)\n",
      "ax.axvline(x=15, ymin=-0.15, ymax=1.85, **kw)\n",
      "\n",
      "# Zero line.\n",
      "_ = ax.annotate('', xy=(20, 0), xycoords='data',\n",
      "            xytext=(0, 0), textcoords='data',\n",
      "            arrowprops=dict(arrowstyle='->', facecolor='black'))\n",
      "\n",
      "_ = ax.annotate(u'Espa\u00e7o (x)', xy=(20, 0), xycoords='data',\n",
      "            xytext=(20, 0.05), textcoords='data', \n",
      "            va='bottom', ha='right', color='blue')\n",
      "\n",
      "_ = ax.annotate('Tempo (t)', xy=(20, 0), xycoords='data',\n",
      "            xytext=(20, -0.05), textcoords='data', \n",
      "            va='top', ha='right', color='red')\n",
      "\n",
      "# Arrow commom properties.\n",
      "arrowprops = dict(arrowstyle='<->', facecolor='black')\n",
      "\n",
      "# Wave period (or length).\n",
      "_ = ax.annotate('', xy=(15, 2.5), xycoords='data',\n",
      "            xytext=(5, 2.5), textcoords='data',\n",
      "            arrowprops=arrowprops)\n",
      "\n",
      "_ = ax.annotate(r'$\\lambda$', xy=(10, 2.5), xycoords='data',\n",
      "            xytext=(10, 2.55), textcoords='data', \n",
      "            va='bottom', ha='center')\n",
      "\n",
      "# Amplitude.\n",
      "_ = ax.annotate('', xy=(5, 2), xycoords='data',\n",
      "            xytext=(5, 0), textcoords='data',\n",
      "            arrowprops=arrowprops)\n",
      "\n",
      "_ = ax.annotate('a', xy=(5, 1), xycoords='data',\n",
      "            xytext=(4.9, 1), textcoords='data', \n",
      "            va='center', ha='right', rotation=0)\n",
      "\n",
      "# Height.\n",
      "ax.annotate('', xy=(15, 2), xycoords='data',\n",
      "            xytext=(15, -2), textcoords='data',\n",
      "            arrowprops=arrowprops)\n",
      "\n",
      "_ = ax.annotate('h', xy=(15, 1), xycoords='data',\n",
      "            xytext=(14.9, 0.1), textcoords='data', \n",
      "            va='bottom', ha='right', rotation=0)\n",
      "\n",
      "# Angle.\n",
      "_ = ax.annotate('', xy=(15, 2), xycoords='data',\n",
      "            xytext=(5, -2), textcoords='data',\n",
      "            arrowprops=arrowprops)\n",
      "\n",
      "_ = ax.annotate(r'$\\alpha$', xy=(10, 0), xycoords='data',\n",
      "            xytext=(10.5, 0.5), textcoords='data', \n",
      "            va='center', ha='center', rotation=35)"
     ],
     "language": "python",
     "metadata": {},
     "outputs": [
      {
       "metadata": {},
       "output_type": "display_data",
       "png": "[encoded data removed]",
       "text": [
        "<matplotlib.figure.Figure at 0x355f350>"
       ]
      }
     ],
     "prompt_number": 3
    },
    {
     "cell_type": "code",
     "collapsed": false,
     "input": [
      "fig.savefig('wave_definitions.pdf')"
     ],
     "language": "python",
     "metadata": {},
     "outputs": [],
     "prompt_number": 4
    },
    {
     "cell_type": "code",
     "collapsed": false,
     "input": [
      "HTML(html)"
     ],
     "language": "python",
     "metadata": {},
     "outputs": [
      {
       "html": [
        "<a rel=\"license\" href=\"http://creativecommons.org/licenses/by-nc-sa/3.0/deed.en_US\"><img alt=\"Creative Commons License\"\n",
        "style=\"border-width:0\" src=\"http://i.creativecommons.org/l/by-nc-sa/3.0/88x31.png\" /></a><br />\n",
        "<span xmlns:dct=\"http://purl.org/dc/terms/\" href=\"http://purl.org/dc/dcmitype/Dataset\" property=\"dct:title\" rel=\"dct:type\">\n",
        "\"Aulas de Ondas e Mar\u00e9s\"</span> by <a xmlns:cc=\"http://creativecommons.org/ns#\" href=\"http://ocefpaf.github.io/\"\n",
        "property=\"cc:attributionName\" rel=\"cc:attributionURL\">Filipe Fernandes</a> is licensed under a <a rel=\"license\"\n",
        "href=\"http://creativecommons.org/licenses/by-nc-sa/3.0/deed.en_US\">\n",
        "Creative Commons Attribution-NonCommercial-ShareAlike 3.0 Unported License</a>.<br />\n",
        "Based on a work at <a xmlns:dct=\"http://purl.org/dc/terms/\" href=\"http://ocefpaf.github.io/\"\n",
        "rel=\"dct:source\">http://ocefpaf.github.io/</a>.\n",
        "<p>Check this post at <a href=\"http://nbviewer.ipython.org/urls/raw.github.com/ocefpaf/python4oceanographers/master/content/downloads/notebooks/wave_definitions.ipynb\"><em>nbviewer</em>.</a></p>"
       ],
       "metadata": {},
       "output_type": "pyout",
       "prompt_number": 5,
       "text": [
        "<IPython.core.display.HTML at 0x3bd4810>"
       ]
      }
     ],
     "prompt_number": 5
    }
   ],
   "metadata": {}
  }
 ]
}