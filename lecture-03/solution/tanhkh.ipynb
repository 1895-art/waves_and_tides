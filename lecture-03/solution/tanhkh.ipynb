{
 "metadata": {
  "name": ""
 },
 "nbformat": 3,
 "nbformat_minor": 0,
 "worksheets": [
  {
   "cells": [
    {
     "cell_type": "code",
     "collapsed": false,
     "input": [
      "from IPython.core.display import HTML\n",
      "\n",
      "html = \"\"\"<a rel=\"license\" href=\"http://creativecommons.org/licenses/by-nc-sa/3.0/deed.en_US\"><img alt=\"Creative Commons License\"\n",
      "style=\"border-width:0\" src=\"http://i.creativecommons.org/l/by-nc-sa/3.0/88x31.png\" /></a><br />\n",
      "<span xmlns:dct=\"http://purl.org/dc/terms/\" href=\"http://purl.org/dc/dcmitype/Dataset\" property=\"dct:title\" rel=\"dct:type\">\n",
      "\"Aulas de Ondas e mar\u00e9s\"</span> by <a xmlns:cc=\"http://creativecommons.org/ns#\" href=\"http://ocefpaf.github.io/\"\n",
      "property=\"cc:attributionName\" rel=\"cc:attributionURL\">Filipe Fernandes</a> is licensed under a <a rel=\"license\"\n",
      "href=\"http://creativecommons.org/licenses/by-nc-sa/3.0/deed.en_US\">\n",
      "Creative Commons Attribution-NonCommercial-ShareAlike 3.0 Unported License</a>.<br />\n",
      "Based on a work at <a xmlns:dct=\"http://purl.org/dc/terms/\" href=\"http://ocefpaf.github.io/\"\n",
      "rel=\"dct:source\">http://ocefpaf.github.io/</a>.\"\"\"\n",
      "\n",
      "def css_styling():\n",
      "    styles = open(\"../../common/custom.css\", \"r\").read()\n",
      "    return HTML(styles)\n",
      "css_styling()"
     ],
     "language": "python",
     "metadata": {},
     "outputs": []
    },
    {
     "cell_type": "code",
     "collapsed": false,
     "input": [
      "from __future__ import division\n",
      "\n",
      "import numpy as np\n",
      "import matplotlib.pyplot as plt"
     ],
     "language": "python",
     "metadata": {},
     "outputs": []
    },
    {
     "cell_type": "code",
     "collapsed": false,
     "input": [
      "hoL = np.arange(0, 1, 0.001)\n",
      "kh = 2 * np.pi * hoL\n",
      "tanhkh = np.tanh(kh)\n",
      "\n",
      "threshold = 1e-3\n",
      "one = (1 - tanhkh) <= threshold\n",
      "equal = (kh - tanhkh) <= threshold\n",
      "\n",
      "fig, ax = plt.subplots(figsize=(8, 4))\n",
      "ax.plot(hoL, tanhkh, color='#493D26', linewidth='2', label=r\"$\\tanh(kh)$\")\n",
      "ax.plot(hoL[equal], tanhkh[equal], color='#F88017', linewidth='3', label=r\"$\\tanh(kh) \\sim kh$\")\n",
      "ax.plot(hoL[one], tanhkh[one], color='#168EF7', linewidth='3', label=r\"$\\tanh(kh) \\sim 1$\")\n",
      "ax.set_xlabel(r'$\\frac{h}{L}$')\n",
      "ax.set_ylabel(r'$\\tanh(kh)$')\n",
      "ax.axis([0, 1, 0, 1.05])\n",
      "ax.legend(loc='lower right')\n",
      "\n",
      "plt.show()\n"
     ],
     "language": "python",
     "metadata": {},
     "outputs": []
    },
    {
     "cell_type": "code",
     "collapsed": false,
     "input": [
      "HTML(html)"
     ],
     "language": "python",
     "metadata": {},
     "outputs": []
    },
    {
     "cell_type": "markdown",
     "metadata": {},
     "source": [
      "Check this post at [nbviewer.](http://nbviewer.ipython.org/urls/raw.github.com/ocefpaf/waves_and_tides/master/lecture-03/solution/tanhkh.ipynb)"
     ]
    }
   ],
   "metadata": {}
  }
 ]
}