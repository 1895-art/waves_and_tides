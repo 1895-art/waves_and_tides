{
 "metadata": {
  "name": ""
 },
 "nbformat": 3,
 "nbformat_minor": 0,
 "worksheets": [
  {
   "cells": [
    {
     "cell_type": "code",
     "collapsed": false,
     "input": [
      "from IPython.core.display import HTML\n",
      "\n",
      "html = \"\"\"<a rel=\"license\" href=\"http://creativecommons.org/licenses/by-nc-sa/3.0/deed.en_US\"><img alt=\"Creative Commons License\"\n",
      "style=\"border-width:0\" src=\"http://i.creativecommons.org/l/by-nc-sa/3.0/88x31.png\" /></a><br />\n",
      "<span xmlns:dct=\"http://purl.org/dc/terms/\" href=\"http://purl.org/dc/dcmitype/Dataset\" property=\"dct:title\" rel=\"dct:type\">\n",
      "\"Aulas de Ondas e mar\u00e9s\"</span> by <a xmlns:cc=\"http://creativecommons.org/ns#\" href=\"http://ocefpaf.github.io/\"\n",
      "property=\"cc:attributionName\" rel=\"cc:attributionURL\">Filipe Fernandes</a> is licensed under a <a rel=\"license\"\n",
      "href=\"http://creativecommons.org/licenses/by-nc-sa/3.0/deed.en_US\">\n",
      "Creative Commons Attribution-NonCommercial-ShareAlike 3.0 Unported License</a>.<br />\n",
      "Based on a work at <a xmlns:dct=\"http://purl.org/dc/terms/\" href=\"http://ocefpaf.github.io/\"\n",
      "rel=\"dct:source\">http://ocefpaf.github.io/</a>.\"\"\"\n",
      "\n",
      "def css_styling():\n",
      "    styles = open(\"../common/custom.css\", \"r\").read()\n",
      "    return HTML(styles)\n",
      "css_styling()"
     ],
     "language": "python",
     "metadata": {},
     "outputs": [
      {
       "html": [
        "<style>\n",
        "    @font-face {\n",
        "        font-family: \"Computer Modern\";\n",
        "        src: url('http://mirrors.ctan.org/fonts/cm-unicode/fonts/otf/cmunss.otf');\n",
        "    }\n",
        "    div.cell{\n",
        "        width:800px;\n",
        "/*        margin-left:16% !important;\n",
        "        margin-right:auto;*/\n",
        "        margin-left:auto;\n",
        "        margin-right:16% !important;\n",
        "    }\n",
        "    h1 {\n",
        "        font-family: Helvetica, serif;\n",
        "    }\n",
        "    h2 {\n",
        "        font-family: Helvetica, serif;\n",
        "    }\n",
        "    h4{\n",
        "        margin-top:12px;\n",
        "        margin-bottom: 3px;\n",
        "       }\n",
        "    div.text_cell_render{\n",
        "        font-family: Computer Modern, \"Helvetica Neue\", Arial, Helvetica, Geneva, sans-serif;\n",
        "        line-height: 135%;\n",
        "        font-size: 120%;\n",
        "        width:600px;\n",
        "        margin-left:auto;\n",
        "        margin-right:auto;\n",
        "    }\n",
        "    .CodeMirror{\n",
        "            font-family: \"Source Code Pro\", source-code-pro,Consolas, monospace;\n",
        "    }\n",
        "/*    .prompt{\n",
        "        display: None;\n",
        "    }*/\n",
        "    .text_cell_render h5 {\n",
        "        font-weight: 300;\n",
        "        font-size: 16pt;\n",
        "        color: #4057A1;\n",
        "        font-style: italic;\n",
        "        margin-bottom: .5em;\n",
        "        margin-top: 0.5em;\n",
        "        display: block;\n",
        "    }\n",
        "\n",
        "    .warning{\n",
        "        color: rgb( 240, 20, 20 )\n",
        "        }\n",
        "</style>\n",
        "<script>\n",
        "    MathJax.Hub.Config({\n",
        "                        TeX: {\n",
        "                           extensions: [\"AMSmath.js\"]\n",
        "                           },\n",
        "                tex2jax: {\n",
        "                    inlineMath: [ ['$','$'], [\"\\\\(\",\"\\\\)\"] ],\n",
        "                    displayMath: [ ['$$','$$'], [\"\\\\[\",\"\\\\]\"] ]\n",
        "                },\n",
        "                displayAlign: 'center', // Change this to 'center' to center equations.\n",
        "                \"HTML-CSS\": {\n",
        "                    styles: {'.MathJax_Display': {\"margin\": 4}}\n",
        "                }\n",
        "        });\n",
        "</script>\n"
       ],
       "metadata": {},
       "output_type": "pyout",
       "prompt_number": 1,
       "text": [
        "<IPython.core.display.HTML at 0x335af10>"
       ]
      }
     ],
     "prompt_number": 1
    },
    {
     "cell_type": "markdown",
     "metadata": {},
     "source": [
      "$y = A \\cos(\\omega t - kx + \\phi)$\n",
      "\n",
      "$T = \\frac{1}{f} = \\frac{2\\pi}{\\omega} \\rightarrow \\left[\\text{s} \\right] $\n",
      "\n",
      "$\\text{L ou } \\lambda = \\frac{2\\pi}{k} \\rightarrow \\left[ \\text{m} \\right]$"
     ]
    },
    {
     "cell_type": "code",
     "collapsed": false,
     "input": [
      "from __future__ import division\n",
      "\n",
      "import matplotlib.pyplot as plt\n",
      "\n",
      "def adjust_spines(ax,spines):\n",
      "    \"\"\"http://matplotlib.org/examples/pylab_examples/spine_placement_demo.html\"\"\"\n",
      "    for loc, spine in ax.spines.items():\n",
      "        if loc in spines:\n",
      "            spine.set_position(('outward', 10))\n",
      "            spine.set_smart_bounds(True)\n",
      "        else:\n",
      "            spine.set_color('none')\n",
      "\n",
      "    if 'left' in spines:\n",
      "        ax.yaxis.set_ticks_position('left')\n",
      "    else:\n",
      "        ax.yaxis.set_ticks([])\n",
      "    if 'bottom' in spines:\n",
      "        ax.xaxis.set_ticks_position('bottom')\n",
      "    else:\n",
      "        ax.xaxis.set_ticks([])"
     ],
     "language": "python",
     "metadata": {},
     "outputs": [],
     "prompt_number": 2
    },
    {
     "cell_type": "code",
     "collapsed": false,
     "input": [
      "twopi = 2 * np.pi\n",
      "\n",
      "n = 2  # Duas ondas.\n",
      "A = 2  # Amplitude = 2 metros.\n",
      "w = twopi / 10  # T = 10 segundos.\n",
      "k = twopi / 200  # lambda = 200 metros.\n",
      "phi = np.deg2rad(180)  # Fase [rad]\n",
      "t = np.arange(0, 10 * n, 0.01)  # Vetor tempo [s]\n",
      "x = np.arange(0, 200 * n)  # Vetor espa\u00e7o [m]\n",
      "\n",
      "y1 = A * np.cos(w * t - k * 0 + phi)  # Um ponto do oceano.\n",
      "y2 = A * np.cos(w * 0 - k * x + phi)  # Uma \"foto\" de um instante."
     ],
     "language": "python",
     "metadata": {},
     "outputs": [],
     "prompt_number": 3
    },
    {
     "cell_type": "code",
     "collapsed": false,
     "input": [
      "fig, (ax0, ax1) = plt.subplots(nrows=2, sharey=True, figsize=(6, 4))\n",
      "fig.tight_layout()\n",
      "ax0.set_ylim([-2.1, 2.1])\n",
      "\n",
      "ax0.plot(t, y1, linewidth='2', color='#CC9900')\n",
      "ax0.axhline(color='grey')\n",
      "adjust_spines(ax0, ['left','bottom'])\n",
      "\n",
      "ax1.plot(x, y2, linewidth='2', color='#99CC33')\n",
      "ax1.axhline(color='grey')\n",
      "adjust_spines(ax1, ['left','bottom'])\n",
      "\n",
      "_ = plt.figtext(0, 0.5, 'Amplitude [m]', ha='right', va='center', rotation=90)\n",
      "_ = plt.figtext(1.01, 0.5, u'Per\u00edodo [s]', color='#CC9900')\n",
      "_ = plt.figtext(1.01, 0.05, u'Dist\u00e2ncia [m]', color='#99CC33')"
     ],
     "language": "python",
     "metadata": {},
     "outputs": [
      {
       "metadata": {},
       "output_type": "display_data",
       "png": "[encoded data removed]",
       "text": [
        "<matplotlib.figure.Figure at 0x335a490>"
       ]
      }
     ],
     "prompt_number": 4
    },
    {
     "cell_type": "code",
     "collapsed": false,
     "input": [
      "HTML(html)"
     ],
     "language": "python",
     "metadata": {},
     "outputs": [
      {
       "html": [
        "<a rel=\"license\" href=\"http://creativecommons.org/licenses/by-nc-sa/3.0/deed.en_US\"><img alt=\"Creative Commons License\"\n",
        "style=\"border-width:0\" src=\"http://i.creativecommons.org/l/by-nc-sa/3.0/88x31.png\" /></a><br />\n",
        "<span xmlns:dct=\"http://purl.org/dc/terms/\" href=\"http://purl.org/dc/dcmitype/Dataset\" property=\"dct:title\" rel=\"dct:type\">\n",
        "\"Aulas de Ondas e mar\u00e9s\"</span> by <a xmlns:cc=\"http://creativecommons.org/ns#\" href=\"http://ocefpaf.github.io/\"\n",
        "property=\"cc:attributionName\" rel=\"cc:attributionURL\">Filipe Fernandes</a> is licensed under a <a rel=\"license\"\n",
        "href=\"http://creativecommons.org/licenses/by-nc-sa/3.0/deed.en_US\">\n",
        "Creative Commons Attribution-NonCommercial-ShareAlike 3.0 Unported License</a>.<br />\n",
        "Based on a work at <a xmlns:dct=\"http://purl.org/dc/terms/\" href=\"http://ocefpaf.github.io/\"\n",
        "rel=\"dct:source\">http://ocefpaf.github.io/</a>."
       ],
       "metadata": {},
       "output_type": "pyout",
       "prompt_number": 5,
       "text": [
        "<IPython.core.display.HTML at 0x33c9410>"
       ]
      }
     ],
     "prompt_number": 5
    },
    {
     "cell_type": "markdown",
     "metadata": {},
     "source": [
      "Check this post at [nbviewer.](http://nbviewer.ipython.org/urls/raw.github.com/ocefpaf/waves_and_tides/master/Aula_03/time_space_wave.ipynb)"
     ]
    }
   ],
   "metadata": {}
  }
 ]
}