{
 "metadata": {
  "name": ""
 },
 "nbformat": 3,
 "nbformat_minor": 0,
 "worksheets": [
  {
   "cells": [
    {
     "cell_type": "markdown",
     "metadata": {},
     "source": [
      "Imports:"
     ]
    },
    {
     "cell_type": "code",
     "collapsed": false,
     "input": [
      "from __future__ import division\n",
      "\n",
      "import numpy as np\n",
      "import matplotlib.pyplot as plt"
     ],
     "language": "python",
     "metadata": {},
     "outputs": [],
     "prompt_number": 1
    },
    {
     "cell_type": "markdown",
     "metadata": {},
     "source": [
      "Constants and wave properties:"
     ]
    },
    {
     "cell_type": "code",
     "collapsed": false,
     "input": [
      "L = 15  # Lambda [m]\n",
      "H = 20  # Water column depth [m].\n",
      "N0 = 0.5  # Wave amplitude [m].\n",
      "K = 2 * np.pi / L  # Wave number [m^{-1}].\n",
      "g = 9.8  # Gravity [m s^{-2}].\n",
      "w = np.sqrt(g * K)  # Short-wave dispersion relationship [rad s^{-1}].\n",
      "T = 2 * np.pi / w  # Period [s].\n",
      "\n",
      "x = 1.0\n",
      "t = np.arange(0, 2 * T, 0.1) # Two waves.\n",
      "z0, z2, z4, z6, z8, z10 = 0, -2, -4, -6, -8, -10  # Depths to plot."
     ],
     "language": "python",
     "metadata": {},
     "outputs": [],
     "prompt_number": 2
    },
    {
     "cell_type": "markdown",
     "metadata": {},
     "source": [
      "After all my mistakes we need to check if it is short-wave!"
     ]
    },
    {
     "cell_type": "code",
     "collapsed": false,
     "input": [
      "HoL = H/L\n",
      "if HoL > 1./2:\n",
      "    print(\"Short-wave! H/L = %s\" % HoL)\n",
      "else:\n",
      "    print(\"This is not a shortwave! H/L = %s\" % HoL)"
     ],
     "language": "python",
     "metadata": {},
     "outputs": [
      {
       "output_type": "stream",
       "stream": "stdout",
       "text": [
        "Short-wave! H/L = 1.33333333333\n"
       ]
      }
     ],
     "prompt_number": 3
    },
    {
     "cell_type": "markdown",
     "metadata": {},
     "source": [
      "The code below solve the following equations:\n",
      "\n",
      "Free surface displacement: $\\eta = N_o\\cos({kx - \\omega t})$\n",
      "\n",
      "x displacement: $\\chi = -\\eta_o\\sin({kx - \\omega t})[\\cosh(kz) + \\sinh(kz)]$\n",
      "\n",
      "z displacement: $\\zeta = \\eta_o\\cos({kx - \\omega t})[\\cosh(kz) + \\sinh(kz)]$"
     ]
    },
    {
     "cell_type": "code",
     "collapsed": false,
     "input": [
      "N = N0 * np.cos((K * x) - (w * t))\n",
      "\n",
      "X0 = N0 * np.sin(K * x - w * t) * (np.cosh(K * z0) + np.sinh(K * z0))\n",
      "X2 = N0 * np.sin(K * x - w * t) * (np.cosh(K * z2) + np.sinh(K * z2))\n",
      "X4 = N0 * np.sin(K * x - w * t) * (np.cosh(K * z4) + np.sinh(K * z4))\n",
      "X6 = N0 * np.sin(K * x - w * t) * (np.cosh(K * z6) + np.sinh(K * z6))\n",
      "X8 = N0 * np.sin(K * x - w * t) * (np.cosh(K * z8) + np.sinh(K * z8))\n",
      "X10 = N0 * np.sin(K * x - w * t) * (np.cosh(K * z10) + np.sinh(K * z10))\n",
      "\n",
      "Z0 = N0 * np.cos(K * x - w * t) * (np.sinh(K * z0) + np.cosh(K * z0))\n",
      "Z2 = N0 * np.cos(K * x - w * t) * (np.sinh(K * z2) + np.cosh(K * z2)) + z2\n",
      "Z4 = N0 * np.cos(K * x - w * t) * (np.sinh(K * z4) + np.cosh(K * z4)) + z4\n",
      "Z6 = N0 * np.cos(K * x - w * t) * (np.sinh(K * z6) + np.cosh(K * z6)) + z6\n",
      "Z8 = N0 * np.cos(K * x - w * t) * (np.sinh(K * z8) + np.cosh(K * z8)) + z8\n",
      "Z10 = N0 * np.cos(K * x - w * t) * (np.sinh(K * z10) + np.cosh(K * z10)) + z10"
     ],
     "language": "python",
     "metadata": {},
     "outputs": [],
     "prompt_number": 4
    },
    {
     "cell_type": "code",
     "collapsed": false,
     "input": [
      "# Figure.\n",
      "fig, ax = plt.subplots(figsize=(4, 4))\n",
      "ax.plot(X0, Z0, 'k',\n",
      "        X2, Z2, 'k',\n",
      "        X4, Z4, 'k',\n",
      "        X6, Z6, 'k',\n",
      "        X8, Z8, 'k',\n",
      "        X10, Z10, 'k')\n",
      "ax.set_title(u'Ondas de \u00e1guas profundas (ou ondas curtas)')\n",
      "ax.set_xlabel(u'Dist\u00e2ncia [m]')\n",
      "ax.set_ylabel('Profundidade [m]')\n",
      "x = np.linspace(-X0.max()*10, X0.max()*10, N.size)\n",
      "ax.plot(x, N, 'k:')\n",
      "ax.grid(True)\n",
      "ax.annotate(r'$\\eta$', xy=(x[-4], N[-4]),  xycoords='data',\n",
      "            xytext=(20, 20), textcoords='offset points',\n",
      "            arrowprops=dict(arrowstyle=\"->\", connectionstyle=\"arc3,rad=0.2\"))\n",
      "fig.tight_layout()\n",
      "fig.savefig('/home/filipe/Dropbox/Work/Aulas_Unimonte/OndasEMares/Aula_02/figures/deep_water_waves.pdf')"
     ],
     "language": "python",
     "metadata": {},
     "outputs": [
      {
       "metadata": {},
       "output_type": "display_data",
       "png": "[encoded data removed]",
       "text": [
        "<matplotlib.figure.Figure at 0x30b3850>"
       ]
      }
     ],
     "prompt_number": 5
    },
    {
     "cell_type": "code",
     "collapsed": false,
     "input": [
      "from IPython.display import HTML\n",
      "\n",
      "html = \"\"\"<a rel=\"license\" href=\"http://creativecommons.org/licenses/by-nc-sa/3.0/deed.en_US\"><img alt=\"Creative Commons License\"\n",
      "style=\"border-width:0\" src=\"http://i.creativecommons.org/l/by-nc-sa/3.0/88x31.png\" /></a><br />\n",
      "<span xmlns:dct=\"http://purl.org/dc/terms/\" href=\"http://purl.org/dc/dcmitype/Dataset\" property=\"dct:title\" rel=\"dct:type\">\n",
      "\"Aulas de Ondas e mar\u00e9s\"</span> by <a xmlns:cc=\"http://creativecommons.org/ns#\" href=\"http://ocefpaf.github.io/\"\n",
      "property=\"cc:attributionName\" rel=\"cc:attributionURL\">Filipe Fernandes</a> is licensed under a <a rel=\"license\"\n",
      "href=\"http://creativecommons.org/licenses/by-nc-sa/3.0/deed.en_US\">\n",
      "Creative Commons Attribution-NonCommercial-ShareAlike 3.0 Unported License</a>.<br />\n",
      "Based on a work at <a xmlns:dct=\"http://purl.org/dc/terms/\" href=\"http://ocefpaf.github.io/\"\n",
      "rel=\"dct:source\">http://ocefpaf.github.io/</a>.\"\"\"\n",
      "\n",
      "HTML(html)"
     ],
     "language": "python",
     "metadata": {},
     "outputs": [
      {
       "html": [
        "<a rel=\"license\" href=\"http://creativecommons.org/licenses/by-nc-sa/3.0/deed.en_US\"><img alt=\"Creative Commons License\"\n",
        "style=\"border-width:0\" src=\"http://i.creativecommons.org/l/by-nc-sa/3.0/88x31.png\" /></a><br />\n",
        "<span xmlns:dct=\"http://purl.org/dc/terms/\" href=\"http://purl.org/dc/dcmitype/Dataset\" property=\"dct:title\" rel=\"dct:type\">\n",
        "\"Aulas de Ondas e mar\u00e9s\"</span> by <a xmlns:cc=\"http://creativecommons.org/ns#\" href=\"http://ocefpaf.github.io/\"\n",
        "property=\"cc:attributionName\" rel=\"cc:attributionURL\">Filipe Fernandes</a> is licensed under a <a rel=\"license\"\n",
        "href=\"http://creativecommons.org/licenses/by-nc-sa/3.0/deed.en_US\">\n",
        "Creative Commons Attribution-NonCommercial-ShareAlike 3.0 Unported License</a>.<br />\n",
        "Based on a work at <a xmlns:dct=\"http://purl.org/dc/terms/\" href=\"http://ocefpaf.github.io/\"\n",
        "rel=\"dct:source\">http://ocefpaf.github.io/</a>."
       ],
       "metadata": {},
       "output_type": "pyout",
       "prompt_number": 6,
       "text": [
        "<IPython.core.display.HTML at 0x3546a10>"
       ]
      }
     ],
     "prompt_number": 6
    }
   ],
   "metadata": {}
  }
 ]
}