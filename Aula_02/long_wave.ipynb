{
 "metadata": {
  "name": ""
 },
 "nbformat": 3,
 "nbformat_minor": 0,
 "worksheets": [
  {
   "cells": [
    {
     "cell_type": "code",
     "collapsed": false,
     "input": [
      "from IPython.core.display import HTML\n",
      "\n",
      "html = \"\"\"<a rel=\"license\" href=\"http://creativecommons.org/licenses/by-nc-sa/3.0/deed.en_US\"><img alt=\"Creative Commons License\"\n",
      "style=\"border-width:0\" src=\"http://i.creativecommons.org/l/by-nc-sa/3.0/88x31.png\" /></a><br />\n",
      "<span xmlns:dct=\"http://purl.org/dc/terms/\" href=\"http://purl.org/dc/dcmitype/Dataset\" property=\"dct:title\" rel=\"dct:type\">\n",
      "\"Aulas de Ondas e mar\u00e9s\"</span> by <a xmlns:cc=\"http://creativecommons.org/ns#\" href=\"http://ocefpaf.github.io/\"\n",
      "property=\"cc:attributionName\" rel=\"cc:attributionURL\">Filipe Fernandes</a> is licensed under a <a rel=\"license\"\n",
      "href=\"http://creativecommons.org/licenses/by-nc-sa/3.0/deed.en_US\">\n",
      "Creative Commons Attribution-NonCommercial-ShareAlike 3.0 Unported License</a>.<br />\n",
      "Based on a work at <a xmlns:dct=\"http://purl.org/dc/terms/\" href=\"http://ocefpaf.github.io/\"\n",
      "rel=\"dct:source\">http://ocefpaf.github.io/</a>.\"\"\"\n",
      "\n",
      "def css_styling():\n",
      "    styles = open(\"../common/custom.css\", \"r\").read()\n",
      "    return HTML(styles)\n",
      "css_styling()"
     ],
     "language": "python",
     "metadata": {},
     "outputs": [
      {
       "html": [
        "<style>\n",
        "    @font-face {\n",
        "        font-family: \"Computer Modern\";\n",
        "        src: url('http://mirrors.ctan.org/fonts/cm-unicode/fonts/otf/cmunss.otf');\n",
        "    }\n",
        "    div.cell{\n",
        "        width:800px;\n",
        "/*        margin-left:16% !important;\n",
        "        margin-right:auto;*/\n",
        "        margin-left:auto;\n",
        "        margin-right:16% !important;\n",
        "    }\n",
        "    h1 {\n",
        "        font-family: Helvetica, serif;\n",
        "    }\n",
        "    h2 {\n",
        "        font-family: Helvetica, serif;\n",
        "    }\n",
        "    h4{\n",
        "        margin-top:12px;\n",
        "        margin-bottom: 3px;\n",
        "       }\n",
        "    div.text_cell_render{\n",
        "        font-family: Computer Modern, \"Helvetica Neue\", Arial, Helvetica, Geneva, sans-serif;\n",
        "        line-height: 135%;\n",
        "        font-size: 120%;\n",
        "        width:600px;\n",
        "        margin-left:auto;\n",
        "        margin-right:auto;\n",
        "    }\n",
        "    .CodeMirror{\n",
        "            font-family: \"Source Code Pro\", source-code-pro,Consolas, monospace;\n",
        "    }\n",
        "/*    .prompt{\n",
        "        display: None;\n",
        "    }*/\n",
        "    .text_cell_render h5 {\n",
        "        font-weight: 300;\n",
        "        font-size: 16pt;\n",
        "        color: #4057A1;\n",
        "        font-style: italic;\n",
        "        margin-bottom: .5em;\n",
        "        margin-top: 0.5em;\n",
        "        display: block;\n",
        "    }\n",
        "\n",
        "    .warning{\n",
        "        color: rgb( 240, 20, 20 )\n",
        "        }\n",
        "</style>\n",
        "<script>\n",
        "    MathJax.Hub.Config({\n",
        "                        TeX: {\n",
        "                           extensions: [\"AMSmath.js\"]\n",
        "                           },\n",
        "                tex2jax: {\n",
        "                    inlineMath: [ ['$','$'], [\"\\\\(\",\"\\\\)\"] ],\n",
        "                    displayMath: [ ['$$','$$'], [\"\\\\[\",\"\\\\]\"] ]\n",
        "                },\n",
        "                displayAlign: 'center', // Change this to 'center' to center equations.\n",
        "                \"HTML-CSS\": {\n",
        "                    styles: {'.MathJax_Display': {\"margin\": 4}}\n",
        "                }\n",
        "        });\n",
        "</script>\n"
       ],
       "metadata": {},
       "output_type": "pyout",
       "prompt_number": 1,
       "text": [
        "<IPython.core.display.HTML at 0x37a1e90>"
       ]
      }
     ],
     "prompt_number": 1
    },
    {
     "cell_type": "code",
     "collapsed": false,
     "input": [
      "from __future__ import division\n",
      "\n",
      "import numpy as np\n",
      "import matplotlib.pyplot as plt"
     ],
     "language": "python",
     "metadata": {},
     "outputs": [],
     "prompt_number": 2
    },
    {
     "cell_type": "markdown",
     "metadata": {},
     "source": [
      "Longwave dispersion relationship: $\\omega = k\\sqrt{gh}$"
     ]
    },
    {
     "cell_type": "code",
     "collapsed": false,
     "input": [
      "L = 10500  # Lambda [m].\n",
      "H = 500  # Water column depth [m].\n",
      "N0 = 10  # Wave amplitude [m].\n",
      "K = 2 * np.pi / L  # Wavenumber [m^{-1}].\n",
      "g = 9.8  # Aceleration of gravity [m s^{-2}]\n",
      "w = np.sqrt(g * K ** 2 * H)  # Longwave dispersion [rad s^{-1}].\n",
      "T = 2 * np.pi / w  # Period [s].\n",
      "\n",
      "t = np.arange(0, 2 * T)  # Two waves.\n",
      "x = 0.0\n",
      "\n",
      "z000, z100, z200, z300, z400, z500 = 0, -100, -200, -300, -400, -500"
     ],
     "language": "python",
     "metadata": {},
     "outputs": [],
     "prompt_number": 3
    },
    {
     "cell_type": "code",
     "collapsed": false,
     "input": [
      "HoL = H/L\n",
      "if HoL < 1./20:\n",
      "    print(\"H/L = %s, Longwave!\" % HoL)\n",
      "else:\n",
      "    print(\"H/L = %s, This is not a longwave :(\" % HoL)"
     ],
     "language": "python",
     "metadata": {},
     "outputs": [
      {
       "output_type": "stream",
       "stream": "stdout",
       "text": [
        "H/L = 0.047619047619, Longwave!\n"
       ]
      }
     ],
     "prompt_number": 4
    },
    {
     "cell_type": "markdown",
     "metadata": {},
     "source": [
      "The code below solve the following equations (Check them out in the course notes!):\n",
      "\n",
      "Free surface displacement: $\\eta = N_o\\cos({kx - \\omega t})$\n",
      "\n",
      "x displacement: $\\chi = -\\frac{\\eta_o}{kH}\\sin({kx - \\omega t})$\n",
      "\n",
      "z displacement: $\\zeta = \\frac{\\eta_o}{H}(z + H)\\cos({kx - \\omega t})$"
     ]
    },
    {
     "cell_type": "code",
     "collapsed": false,
     "input": [
      "X = -(N0 / K * H) * np.sin((K * x) - (w * t))\n",
      "\n",
      "N = N0 * np.cos((K * x) - (w * t))\n",
      "\n",
      "Z000 = ((N0 / H) * (z000 + H)) * np.cos((K * x) - (w * t)) + z000\n",
      "Z100 = ((N0 / H) * (z100 + H)) * np.cos((K * x) - (w * t)) + z100\n",
      "Z200 = ((N0 / H) * (z200 + H)) * np.cos((K * x) - (w * t)) + z200\n",
      "Z300 = ((N0 / H) * (z300 + H)) * np.cos((K * x) - (w * t)) + z300\n",
      "Z400 = ((N0 / H) * (z400 + H)) * np.cos((K * x) - (w * t)) + z400\n",
      "Z500 = ((N0 / H) * (z500 + H)) * np.cos((K * x) - (w * t)) + z500"
     ],
     "language": "python",
     "metadata": {},
     "outputs": [],
     "prompt_number": 5
    },
    {
     "cell_type": "code",
     "collapsed": false,
     "input": [
      "# Figure.\n",
      "fig, ax = plt.subplots(figsize=(4, 4))\n",
      "ax.plot(X, Z000, 'k',\n",
      "        X, Z100, 'k',\n",
      "        X, Z200, 'k',\n",
      "        X, Z300, 'k',\n",
      "        X, Z400, 'k',\n",
      "        X, Z500, 'k')\n",
      "ax.set_title(u'Ondas de \u00e1guas rasas (ou ondas longas)')\n",
      "ax.set_xlabel(u'Dist\u00e2ncia [m]')\n",
      "ax.set_ylabel('Profundidade [m]')\n",
      "\n",
      "x = np.linspace(-X.max()*6, X.max()*6, N.size)\n",
      "ax.plot(x, N, 'k:')\n",
      "ax.set_ylim(-520, 90)\n",
      "ax.grid(True)\n",
      "ax.annotate(r'$\\eta$', xy=(x[-20], N[-20]),  xycoords='data',\n",
      "            xytext=(20, 20), textcoords='offset points',\n",
      "            arrowprops=dict(arrowstyle=\"->\", connectionstyle=\"arc3,rad=0.2\"))\n",
      "fig.tight_layout()"
     ],
     "language": "python",
     "metadata": {},
     "outputs": [
      {
       "metadata": {},
       "output_type": "display_data",
       "png": "[encoded data removed]",
       "text": [
        "<matplotlib.figure.Figure at 0x38110d0>"
       ]
      }
     ],
     "prompt_number": 6
    },
    {
     "cell_type": "code",
     "collapsed": false,
     "input": [
      "HTML(html)"
     ],
     "language": "python",
     "metadata": {},
     "outputs": [
      {
       "html": [
        "<a rel=\"license\" href=\"http://creativecommons.org/licenses/by-nc-sa/3.0/deed.en_US\"><img alt=\"Creative Commons License\"\n",
        "style=\"border-width:0\" src=\"http://i.creativecommons.org/l/by-nc-sa/3.0/88x31.png\" /></a><br />\n",
        "<span xmlns:dct=\"http://purl.org/dc/terms/\" href=\"http://purl.org/dc/dcmitype/Dataset\" property=\"dct:title\" rel=\"dct:type\">\n",
        "\"Aulas de Ondas e mar\u00e9s\"</span> by <a xmlns:cc=\"http://creativecommons.org/ns#\" href=\"http://ocefpaf.github.io/\"\n",
        "property=\"cc:attributionName\" rel=\"cc:attributionURL\">Filipe Fernandes</a> is licensed under a <a rel=\"license\"\n",
        "href=\"http://creativecommons.org/licenses/by-nc-sa/3.0/deed.en_US\">\n",
        "Creative Commons Attribution-NonCommercial-ShareAlike 3.0 Unported License</a>.<br />\n",
        "Based on a work at <a xmlns:dct=\"http://purl.org/dc/terms/\" href=\"http://ocefpaf.github.io/\"\n",
        "rel=\"dct:source\">http://ocefpaf.github.io/</a>."
       ],
       "metadata": {},
       "output_type": "pyout",
       "prompt_number": 7,
       "text": [
        "<IPython.core.display.HTML at 0x3ab3e50>"
       ]
      }
     ],
     "prompt_number": 7
    },
    {
     "cell_type": "markdown",
     "metadata": {},
     "source": [
      "Check this post at [nbviewer.](http://nbviewer.ipython.org/urls/raw.github.com/ocefpaf/waves_and_tides/master/Aula_02/long_wave.ipynb)"
     ]
    }
   ],
   "metadata": {}
  }
 ]
}