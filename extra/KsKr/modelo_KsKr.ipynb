{
 "metadata": {
  "name": ""
 },
 "nbformat": 3,
 "nbformat_minor": 0,
 "worksheets": [
  {
   "cells": [
    {
     "cell_type": "markdown",
     "metadata": {},
     "source": [
      "## Altura e dire\u00e7\u00e3o de onda usando a lei de snell e batimetria real\u00edstica"
     ]
    },
    {
     "cell_type": "markdown",
     "metadata": {},
     "source": [
      "Esse bloco apenas l\u00ea os dados da planilha do Excel, convert a batimetria para metros e inverte o sinal (o modelo entra com \"h\" positivo)."
     ]
    },
    {
     "cell_type": "code",
     "collapsed": false,
     "input": [
      "from pandas import read_excel\n",
      "xls = -1e-2 * read_excel('./batimetria.xlsx', sheetname='Plan1', skiprows=1, index_col=0, parse_cols=(0, 1, 4, 7))\n",
      "xls.index.name = 'Distance [m]'\n",
      "xls.columns = ['T1', 'T2', 'T3']\n",
      "xls"
     ],
     "language": "python",
     "metadata": {},
     "outputs": [],
     "prompt_number": null
    },
    {
     "cell_type": "code",
     "collapsed": false,
     "input": [
      "ax = xls.plot()\n",
      "ax.invert_yaxis()\n",
      "ax.set_ylabel('Depth [m]')"
     ],
     "language": "python",
     "metadata": {},
     "outputs": [],
     "prompt_number": null
    },
    {
     "cell_type": "markdown",
     "metadata": {},
     "source": [
      "O bloco abaixo \u00e9 o modelo.  Temos que entrar com,\n",
      "\n",
      "- T: Per\u00edodo de onda t\u00edpico;\n",
      "- h: Batimetria que voc\u00eas mediram;\n",
      "- Ho: Altura de onda inicial;\n",
      "- thetao: Angulo de incid\u00eancia das ondas."
     ]
    },
    {
     "cell_type": "code",
     "collapsed": false,
     "input": [
      "import numpy as np\n",
      "import numpy.ma as ma\n",
      "\n",
      "# Constantes.\n",
      "g = 9.81\n",
      "twopi = 2 * np.pi\n",
      "    \n",
      "# Rela\u00e7\u00e3o de dispers\u00e3o (Resolvida pelo m\u00e9todo de Newton-Raphson).\n",
      "def dispersion_relationship(T, h, Ho, thetao):\n",
      "    T, h, Ho, thetao = np.broadcast_arrays(T, h, Ho, thetao)\n",
      "    omega = twopi / T\n",
      "    Lo = (g * T ** 2) / twopi\n",
      "    # Come\u00e7a pela rela\u00e7\u00e3o de dispers\u00e3o de \u00e1guas profundas.\n",
      "    k = omega / np.sqrt(g)\n",
      "    # Vamos aproximando por incrementos de \"f\".\n",
      "    f = g * k * np.tanh(k * h) - omega ** 2\n",
      "    while np.abs(f.max()) > 1e-7:\n",
      "        dfdk = (g * k * h * (1 / (np.cosh(k * h))) ** 2 + g * np.tanh(k * h))\n",
      "        k = k - f / dfdk\n",
      "        f = g * k * np.tanh(k * h) - omega ** 2\n",
      "\n",
      "    # Com o n\u00famero de onda resolvido podemos calcular:\n",
      "    L = twopi / k\n",
      "    C = omega / k\n",
      "    Co = Lo / T\n",
      "    G = 2 * k * h / np.sinh(2 * k * h)\n",
      "    \n",
      "    # Aqui \u00e9 basicamente a lei de Snell e o shoaling.\n",
      "    theta = np.rad2deg(np.arcsin(C / Co * np.sin(np.deg2rad(thetao))))\n",
      "    Kr = np.sqrt(np.cos(np.deg2rad(thetao)) / np.cos(np.deg2rad(theta)))\n",
      "    Ks = np.sqrt(1 / (1 + G) / np.tanh(k * h))\n",
      "    H = Ho * Ks * Kr\n",
      "    # Retorna Altura de onda e \u00e2ngulo.\n",
      "    return map(ma.asanyarray, (theta, H))"
     ],
     "language": "python",
     "metadata": {},
     "outputs": [],
     "prompt_number": null
    },
    {
     "cell_type": "code",
     "collapsed": false,
     "input": [
      "T = 5.  # Segundos\n",
      "Ho = 0.1  # Metros.\n",
      "thetao = 0  # Graus.\n",
      "\n",
      "# Start at the deepest bathymetry and goes from there up to the coast.\n",
      "h = np.fliplr(np.flipud(xls.values)[3:,:])\n",
      "rows, cols = h.shape\n",
      "\n",
      "theta, H = [], []\n",
      "for row in range(rows):\n",
      "    thetao, Ho = dispersion_relationship(T=T, h=h[row, :], Ho=Ho, thetao=thetao)\n",
      "    H.append(Ho)\n",
      "    theta.append(thetao)"
     ],
     "language": "python",
     "metadata": {},
     "outputs": [],
     "prompt_number": null
    },
    {
     "cell_type": "code",
     "collapsed": false,
     "input": [
      "# Flip then back.\n",
      "H = np.array(H)\n",
      "theta = np.array(theta)"
     ],
     "language": "python",
     "metadata": {},
     "outputs": [],
     "prompt_number": null
    },
    {
     "cell_type": "code",
     "collapsed": false,
     "input": [
      "import matplotlib.pyplot as plt\n",
      "\n",
      "x = np.arange(3)\n",
      "y = xls.index.values[:-3]\n",
      "\n",
      "fig, (ax0, ax1, ax2) = plt.subplots(ncols=3, sharex=True, sharey=True, figsize=(12, 4))\n",
      "cs0 = ax0.pcolorfast(x, y, h)\n",
      "fig.colorbar(cs0, ax=ax0, extend='both')\n",
      "ax0.set_title('Batimetria [m]')\n",
      "ax0.set_xlabel('Perfil [sem unidade]')\n",
      "\n",
      "cs1 = ax1.pcolorfast(x, y, H, vmax=1., vmin=0.1)\n",
      "fig.colorbar(cs1, ax=ax1, extend='both')\n",
      "ax1.set_ylabel(u'Dist\u00e2ncia [m]')\n",
      "ax1.set_title('Altura de onda [m]')\n",
      "\n",
      "cs2 = ax2.pcolorfast(x, y, theta, vmax=20, vmin=0)\n",
      "fig.colorbar(cs2, ax=ax2, extend='both')\n",
      "ax2.set_title(u'\u00c2ngulo [graus]')"
     ],
     "language": "python",
     "metadata": {},
     "outputs": [],
     "prompt_number": null
    },
    {
     "cell_type": "code",
     "collapsed": false,
     "input": [
      "from IPython.display import Image\n",
      "Image('./images/perfis.png', retina=True)"
     ],
     "language": "python",
     "metadata": {},
     "outputs": [],
     "prompt_number": null
    },
    {
     "cell_type": "code",
     "collapsed": false,
     "input": [
      "ma.masked_invalid(H).max()"
     ],
     "language": "python",
     "metadata": {},
     "outputs": [],
     "prompt_number": null
    },
    {
     "cell_type": "code",
     "collapsed": false,
     "input": [],
     "language": "python",
     "metadata": {},
     "outputs": []
    }
   ],
   "metadata": {}
  }
 ]
}