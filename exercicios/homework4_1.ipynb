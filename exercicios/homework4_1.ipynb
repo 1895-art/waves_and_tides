{
 "metadata": {
  "name": ""
 },
 "nbformat": 3,
 "nbformat_minor": 0,
 "worksheets": [
  {
   "cells": [
    {
     "cell_type": "code",
     "collapsed": false,
     "input": [
      "import numpy as np\n",
      "import matplotlib.pyplot as plt\n",
      "from oceans.sw_extras.waves import Waves"
     ],
     "language": "python",
     "metadata": {},
     "outputs": [],
     "prompt_number": null
    },
    {
     "cell_type": "code",
     "collapsed": false,
     "input": [
      "T = 20  # Period in seconds.\n",
      "h = np.linspace(0.1, 450, 100)  # Depth vector from 0 to 450 meters.\n",
      "\n",
      "w = Waves(T, h)  # Compute the wave caracteristics.\n",
      "a = w.Ks * 2.33  # Compute ampliute with a shoaling coefficient \"Ks.\""
     ],
     "language": "python",
     "metadata": {},
     "outputs": [],
     "prompt_number": null
    },
    {
     "cell_type": "code",
     "collapsed": false,
     "input": [
      "fig, ax = plt.subplots()\n",
      "ax.plot(h, a)\n",
      "ax.set_xlabel(r'$h$ [m]')\n",
      "ax.set_ylabel(r'$a$ [cm]')\n",
      "_ = ax.set_title(r'$a$ as a function of $h$')"
     ],
     "language": "python",
     "metadata": {},
     "outputs": [],
     "prompt_number": null
    }
   ],
   "metadata": {}
  }
 ]
}